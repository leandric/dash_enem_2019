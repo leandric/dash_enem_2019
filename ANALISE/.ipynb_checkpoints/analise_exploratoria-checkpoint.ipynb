{
 "cells": [
  {
   "cell_type": "markdown",
   "id": "1b79d99d",
   "metadata": {},
   "source": [
    "# Análise Exploratória"
   ]
  },
  {
   "cell_type": "code",
   "execution_count": 1,
   "id": "aa634146",
   "metadata": {},
   "outputs": [],
   "source": [
    "import pandas as pd\n",
    "import matplotlib.pyplot as plt\n",
    "\n",
    "pd.set_option('display.max_columns', None)"
   ]
  },
  {
   "cell_type": "markdown",
   "id": "54159d4f",
   "metadata": {},
   "source": [
    "## Carga da base"
   ]
  },
  {
   "cell_type": "code",
   "execution_count": 2,
   "id": "753e6ff8",
   "metadata": {},
   "outputs": [],
   "source": [
    "#Colunas selecionadas para carga no DataFrame\n",
    "\n",
    "variaveis = ['SG_UF_RESIDENCIA'\n",
    ",'NU_IDADE'\n",
    ",'TP_SEXO'\n",
    ",'TP_COR_RACA'\n",
    ",'TP_ANO_CONCLUIU'\n",
    ",'TP_ESCOLA'\n",
    ",'IN_NOME_SOCIAL'\n",
    ",'NU_NOTA_CN'\n",
    ",'NU_NOTA_CH'\n",
    ",'NU_NOTA_LC'\n",
    ",'NU_NOTA_MT'\n",
    ",'TP_STATUS_REDACAO'\n",
    ",'NU_NOTA_REDACAO'\n",
    ",'TP_LINGUA'\n",
    ",'Q006'\n",
    ",'Q025'\n",
    ",'TP_PRESENCA_CN'\n",
    ",'TP_PRESENCA_CH'\n",
    ",'TP_PRESENCA_LC'\n",
    ",'TP_PRESENCA_MT']"
   ]
  },
  {
   "cell_type": "code",
   "execution_count": 3,
   "id": "547a7686",
   "metadata": {},
   "outputs": [
    {
     "data": {
      "text/plain": [
       "'5095270 Linhas carregadas'"
      ]
     },
     "execution_count": 3,
     "metadata": {},
     "output_type": "execute_result"
    }
   ],
   "source": [
    "#Carga da base\n",
    "df_microdados = pd.read_csv('../DADOS/MICRODADOS_ENEM_2019.csv',\n",
    "                            encoding='ISO-8859-1', \n",
    "                            usecols = variaveis, \n",
    "                            index_col=None, sep = ';')\n",
    "\n",
    "f'{len(df_microdados)} Linhas carregadas'"
   ]
  },
  {
   "cell_type": "code",
   "execution_count": 4,
   "id": "b1a8b926",
   "metadata": {},
   "outputs": [],
   "source": [
    "#Dataframes Auxiliares (dimensões)\n",
    "\n",
    "df_idade = pd.read_excel(open('Tabelas Auxiliares.xlsx', 'rb'), sheet_name='Idade', index_col=None)\n",
    "df_sexo = pd.read_excel(open('Tabelas Auxiliares.xlsx', 'rb'), sheet_name='Sexo', index_col=None)\n",
    "df_presente_natureza = pd.read_excel(open('Tabelas Auxiliares.xlsx', 'rb'), sheet_name='PRESENCA_NATUREZA', index_col=None)\n",
    "df_presente_humanas = pd.read_excel(open('Tabelas Auxiliares.xlsx', 'rb'), sheet_name='PRESENCA_HUMANAS', index_col=None)\n",
    "df_presente_linguagem = pd.read_excel(open('Tabelas Auxiliares.xlsx', 'rb'), sheet_name='PRESENCA_LINGUAGEM', index_col=None)\n",
    "df_presente_matematica = pd.read_excel(open('Tabelas Auxiliares.xlsx', 'rb'), sheet_name='PRESENCA_MATEMATICA', index_col=None)\n",
    "df_acesso_internet = pd.read_excel(open('Tabelas Auxiliares.xlsx', 'rb'), sheet_name='ACESSO_INTERNET', index_col=None)\n",
    "df_renda_familiar = pd.read_excel(open('Tabelas Auxiliares.xlsx', 'rb'), sheet_name='RENDA_FA', index_col=None)\n",
    "df_estado = pd.read_excel(open('Tabelas Auxiliares.xlsx', 'rb'), sheet_name='ESTADO', index_col=None)\n",
    "df_raça = pd.read_excel(open('Tabelas Auxiliares.xlsx', 'rb'), sheet_name='RAÇA', index_col=None)\n",
    "df_conclusão_medio = pd.read_excel(open('Tabelas Auxiliares.xlsx', 'rb'), sheet_name='CONCLUSAO_ENSINO_ANO', index_col=None)\n",
    "df_tipo_escola = pd.read_excel(open('Tabelas Auxiliares.xlsx', 'rb'), sheet_name='TIPO_ESCOLA', index_col=None)\n",
    "df_status_redacao = pd.read_excel(open('Tabelas Auxiliares.xlsx', 'rb'), sheet_name='REDAÇÃO', index_col=None)\n",
    "df_idioma_escolhido = pd.read_excel(open('Tabelas Auxiliares.xlsx', 'rb'), sheet_name='LINGUAGEM_ESCOLHIDA', index_col=None)"
   ]
  },
  {
   "cell_type": "code",
   "execution_count": 5,
   "id": "8280fdca",
   "metadata": {},
   "outputs": [],
   "source": [
    "#Merge com os DataFrames Auxiliares\n",
    "df_microdados = pd.merge(left = df_microdados, right = df_idade, on=\"NU_IDADE\")\n",
    "df_microdados = pd.merge(left = df_microdados, right = df_sexo, on=\"TP_SEXO\")\n",
    "df_microdados = pd.merge(left = df_microdados, right = df_raça, on=\"TP_COR_RACA\")\n",
    "df_microdados = pd.merge(left = df_microdados, right = df_conclusão_medio, on=\"TP_ANO_CONCLUIU\")\n",
    "df_microdados = pd.merge(left = df_microdados, right = df_tipo_escola, on=\"TP_ESCOLA\")\n",
    "df_microdados = pd.merge(left = df_microdados, right = df_status_redacao, on=\"TP_STATUS_REDACAO\")\n",
    "df_microdados = pd.merge(left = df_microdados, right = df_idioma_escolhido, on=\"TP_LINGUA\")\n",
    "df_microdados = pd.merge(left = df_microdados, right = df_presente_natureza, on=\"TP_PRESENCA_CN\")\n",
    "df_microdados = pd.merge(left = df_microdados, right = df_presente_humanas, on=\"TP_PRESENCA_CH\")\n",
    "df_microdados = pd.merge(left = df_microdados, right = df_presente_linguagem, on=\"TP_PRESENCA_LC\")\n",
    "df_microdados = pd.merge(left = df_microdados, right = df_presente_matematica, on=\"TP_PRESENCA_MT\")\n",
    "df_microdados = pd.merge(left = df_microdados, right = df_acesso_internet, on=\"Q025\")\n",
    "df_microdados = pd.merge(left = df_microdados, right = df_renda_familiar, on=\"Q006\")"
   ]
  },
  {
   "cell_type": "code",
   "execution_count": 6,
   "id": "978a8131",
   "metadata": {},
   "outputs": [],
   "source": [
    "#Selecionando as colunas de interesse após o merge\n",
    "filtro=['SG_UF_RESIDENCIA'\n",
    ",'NU_IDADE'\n",
    ",'NU_NOTA_CN'\n",
    ",'NU_NOTA_CH'\n",
    ",'NU_NOTA_LC'\n",
    ",'NU_NOTA_MT'\n",
    ",'NU_NOTA_REDACAO'\n",
    ",'Tipo Fase'\n",
    ",'Intervalo Idade'\n",
    ",'Sexo'\n",
    ",'Raça Declarada'\n",
    ",'Conclusão Ensino Médio'\n",
    ",'Tipo Escola'\n",
    ",'Status da Redação'\n",
    ",'Idioma Escolhido'\n",
    ",'Presença Natureza'\n",
    ",'Presença Humanas'\n",
    ",'Presença Linguagem'\n",
    ",'Presença Matemática'\n",
    ",'Acesso a Internet'\n",
    ",'Renda Familiar']\n",
    "\n",
    "df_microdados = df_microdados[filtro]"
   ]
  },
  {
   "cell_type": "code",
   "execution_count": 7,
   "id": "1b456bdd",
   "metadata": {},
   "outputs": [],
   "source": [
    "#Renomeando as colunas selecionadas\n",
    "\n",
    "df_microdados.rename(columns={'SG_UF_RESIDENCIA': 'UF'\n",
    ",'NU_IDADE':'Idade'\n",
    ",'NU_NOTA_CN':'Nota Ciencias da Natureza'\n",
    ",'NU_NOTA_CH':'Nota Ciencias Humanas'\n",
    ",'NU_NOTA_LC':'Nota Linguagem e Código'\n",
    ",'NU_NOTA_MT':'Nota Matemática'\n",
    ",'NU_NOTA_REDACAO':'Nota Redação'\n",
    ",'Tipo Fase':'Grupo Idade'}, inplace = True)"
   ]
  },
  {
   "cell_type": "code",
   "execution_count": 8,
   "id": "284f2f86",
   "metadata": {},
   "outputs": [
    {
     "data": {
      "text/plain": [
       "Index(['UF', 'Idade', 'Nota Ciencias da Natureza', 'Nota Ciencias Humanas',\n",
       "       'Nota Linguagem e Código', 'Nota Matemática', 'Nota Redação',\n",
       "       'Grupo Idade', 'Intervalo Idade', 'Sexo', 'Raça Declarada',\n",
       "       'Conclusão Ensino Médio', 'Tipo Escola', 'Status da Redação',\n",
       "       'Idioma Escolhido', 'Presença Natureza', 'Presença Humanas',\n",
       "       'Presença Linguagem', 'Presença Matemática', 'Acesso a Internet',\n",
       "       'Renda Familiar'],\n",
       "      dtype='object')"
      ]
     },
     "execution_count": 8,
     "metadata": {},
     "output_type": "execute_result"
    }
   ],
   "source": [
    "df_microdados.columns"
   ]
  },
  {
   "cell_type": "markdown",
   "id": "f3a10463",
   "metadata": {},
   "source": [
    "## Graficos"
   ]
  },
  {
   "cell_type": "code",
   "execution_count": 9,
   "id": "bfe06ead",
   "metadata": {},
   "outputs": [
    {
     "data": {
      "image/png": "[encoded data removed]",
      "text/plain": [
       "<Figure size 1080x360 with 1 Axes>"
      ]
     },
     "metadata": {
      "needs_background": "light"
     },
     "output_type": "display_data"
    }
   ],
   "source": [
    "#Histograma de idade\n",
    "plt.figure(figsize=(15,5))\n",
    "plt.hist(df_microdados['Idade'], bins=20)\n",
    "plt.title('Histograma de idade dos Participantes')\n",
    "plt.show()"
   ]
  },
  {
   "cell_type": "code",
   "execution_count": 10,
   "id": "477a3c47",
   "metadata": {},
   "outputs": [
    {
     "data": {
      "image/png": "[encoded data removed]",
      "text/plain": [
       "<Figure size 1080x360 with 1 Axes>"
      ]
     },
     "metadata": {
      "needs_background": "light"
     },
     "output_type": "display_data"
    }
   ],
   "source": [
    "df_grupo_idade = df_microdados.groupby(['Grupo Idade'])[['UF']].count()\n",
    "df_grupo_idade.rename(columns={'UF':'count'}, inplace=True)\n",
    "df_grupo_idade.sort_values(['count'], inplace=True)\n",
    "\n",
    "plt.figure(figsize=(15,5))\n",
    "plt.bar(df_grupo_idade.index, df_grupo_idade['count'])\n",
    "plt.title('Quantidade de Participantes por faixa etária')\n",
    "plt.show()\n"
   ]
  },
  {
   "cell_type": "code",
   "execution_count": 11,
   "id": "4410241c",
   "metadata": {},
   "outputs": [
    {
     "data": {
      "image/png": "[encoded data removed]",
      "text/plain": [
       "<Figure size 1080x360 with 1 Axes>"
      ]
     },
     "metadata": {
      "needs_background": "light"
     },
     "output_type": "display_data"
    }
   ],
   "source": [
    "#Média de nota de redação por UF\n",
    "df_notas_por_UF = df_microdados.groupby(['UF'])[['Nota Redação']].mean()\n",
    "df_notas_por_UF.sort_values(['Nota Redação'], inplace=True)\n",
    "\n",
    "plt.figure(figsize=(15,5))\n",
    "plt.bar(df_notas_por_UF.index, df_notas_por_UF['Nota Redação'])\n",
    "plt.title('Média de Nota de Redação')\n",
    "plt.show()"
   ]
  },
  {
   "cell_type": "markdown",
   "id": "40c38899",
   "metadata": {},
   "source": [
    "## Exportando base tratada para CSV"
   ]
  },
  {
   "cell_type": "code",
   "execution_count": 12,
   "id": "dd8f9b8a",
   "metadata": {},
   "outputs": [],
   "source": [
    "df_microdados.to_csv('DW.csv', encoding='ISO-8859-1', index=False,sep=\";\")"
   ]
  }
 ],
 "metadata": {
  "kernelspec": {
   "display_name": "Python 3",
   "language": "python",
   "name": "python3"
  },
  "language_info": {
   "codemirror_mode": {
    "name": "ipython",
    "version": 3
   },
   "file_extension": ".py",
   "mimetype": "text/x-python",
   "name": "python",
   "nbconvert_exporter": "python",
   "pygments_lexer": "ipython3",
   "version": "3.8.8"
  }
 },
 "nbformat": 4,
 "nbformat_minor": 5
}
