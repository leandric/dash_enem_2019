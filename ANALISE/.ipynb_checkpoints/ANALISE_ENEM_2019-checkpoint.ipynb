{
 "cells": [
  {
   "cell_type": "code",
   "execution_count": 1,
   "metadata": {},
   "outputs": [],
   "source": [
    "import pandas as pd\n",
    "import numpy as np\n",
    "import matplotlib.pyplot as plt\n",
    "import seaborn as sns\n",
    "\n",
    "pd.set_option('display.max_columns', None)"
   ]
  },
  {
   "cell_type": "markdown",
   "metadata": {},
   "source": [
    "<h3>Para esse modelo, escolhi apenas 20 das colunas das 136</h3>"
   ]
  },
  {
   "cell_type": "code",
   "execution_count": 2,
   "metadata": {},
   "outputs": [],
   "source": [
    "variaveis = ['SG_UF_RESIDENCIA'\n",
    ",'NU_IDADE'\n",
    ",'TP_SEXO'\n",
    ",'TP_COR_RACA'\n",
    ",'TP_ANO_CONCLUIU'\n",
    ",'TP_ESCOLA'\n",
    ",'IN_NOME_SOCIAL'\n",
    ",'NU_NOTA_CN'\n",
    ",'NU_NOTA_CH'\n",
    ",'NU_NOTA_LC'\n",
    ",'NU_NOTA_MT'\n",
    ",'TP_STATUS_REDACAO'\n",
    ",'NU_NOTA_REDACAO'\n",
    ",'TP_LINGUA'\n",
    ",'Q006'\n",
    ",'Q025'\n",
    ",'TP_PRESENCA_CN'\n",
    ",'TP_PRESENCA_CH'\n",
    ",'TP_PRESENCA_LC'\n",
    ",'TP_PRESENCA_MT']"
   ]
  },
  {
   "cell_type": "markdown",
   "metadata": {},
   "source": [
    "<h3>Dataframe Principal</h3>"
   ]
  },
  {
   "cell_type": "code",
   "execution_count": 3,
   "metadata": {},
   "outputs": [],
   "source": [
    "df_microdados = pd.read_csv('../DADOS/MICRODADOS_ENEM_2019.csv',encoding='ISO-8859-1', usecols = variaveis, index_col=None, sep = ';')\n",
    "#df_microdados.to_csv(\"df_microdados.csv\", index = False) #aproveitei para exportar a base para usar futuramente"
   ]
  },
  {
   "cell_type": "code",
   "execution_count": 4,
   "metadata": {},
   "outputs": [],
   "source": [
    "#Dataframes Auxiliares (dimensões e afins)\n",
    "\n",
    "df_idade = pd.read_excel(open('Tabelas Auxiliares.xlsx', 'rb'), sheet_name='Idade', index_col=None)\n",
    "df_sexo = pd.read_excel(open('Tabelas Auxiliares.xlsx', 'rb'), sheet_name='Sexo', index_col=None)\n",
    "df_presente_natureza = pd.read_excel(open('Tabelas Auxiliares.xlsx', 'rb'), sheet_name='PRESENCA_NATUREZA', index_col=None)\n",
    "df_presente_humanas = pd.read_excel(open('Tabelas Auxiliares.xlsx', 'rb'), sheet_name='PRESENCA_HUMANAS', index_col=None)\n",
    "df_presente_linguagem = pd.read_excel(open('Tabelas Auxiliares.xlsx', 'rb'), sheet_name='PRESENCA_LINGUAGEM', index_col=None)\n",
    "df_presente_matematica = pd.read_excel(open('Tabelas Auxiliares.xlsx', 'rb'), sheet_name='PRESENCA_MATEMATICA', index_col=None)\n",
    "df_acesso_internet = pd.read_excel(open('Tabelas Auxiliares.xlsx', 'rb'), sheet_name='ACESSO_INTERNET', index_col=None)\n",
    "df_renda_familiar = pd.read_excel(open('Tabelas Auxiliares.xlsx', 'rb'), sheet_name='RENDA_FA', index_col=None)\n",
    "df_estado = pd.read_excel(open('Tabelas Auxiliares.xlsx', 'rb'), sheet_name='ESTADO', index_col=None)\n",
    "df_raça = pd.read_excel(open('Tabelas Auxiliares.xlsx', 'rb'), sheet_name='RAÇA', index_col=None)\n",
    "df_conclusão_medio = pd.read_excel(open('Tabelas Auxiliares.xlsx', 'rb'), sheet_name='CONCLUSAO_ENSINO_ANO', index_col=None)\n",
    "df_tipo_escola = pd.read_excel(open('Tabelas Auxiliares.xlsx', 'rb'), sheet_name='TIPO_ESCOLA', index_col=None)\n",
    "df_status_redacao = pd.read_excel(open('Tabelas Auxiliares.xlsx', 'rb'), sheet_name='REDAÇÃO', index_col=None)\n",
    "df_idioma_escolhido = pd.read_excel(open('Tabelas Auxiliares.xlsx', 'rb'), sheet_name='LINGUAGEM_ESCOLHIDA', index_col=None)"
   ]
  },
  {
   "cell_type": "markdown",
   "metadata": {},
   "source": [
    "<h1>Estrtura de dados</h1>\n",
    "<p>Estudando o dicionários de dados optei por criar uma serie de dataframes auxiliares para extrair as informações eliminando os codigos de respostas.</p>\n",
    "<p>Traduzindo em um DER teriamos o modelo abaixo:</p>\n",
    "<img src=\"imagens/DER.PNG\" alt=\"Girl in a jacket\">\n",
    "<p><i>Aproveitei o modelo gerado pelo <span style=\"color:orange\">PowerBI</span> já que pretendo construir um painel nele com estes dataframes.</i></p>"
   ]
  },
  {
   "cell_type": "code",
   "execution_count": 5,
   "metadata": {},
   "outputs": [],
   "source": [
    "#fato_dw = pd.merge(left= origem_pedidos, right= origem_produto, how='left', left_on='produto', right_on='id')\n",
    "\n",
    "#idade\n",
    "df_microdados = pd.merge(left = df_microdados, right = df_idade, on=\"NU_IDADE\")\n",
    "df_microdados = pd.merge(left = df_microdados, right = df_sexo, on=\"TP_SEXO\")\n",
    "df_microdados = pd.merge(left = df_microdados, right = df_raça, on=\"TP_COR_RACA\")\n",
    "df_microdados = pd.merge(left = df_microdados, right = df_conclusão_medio, on=\"TP_ANO_CONCLUIU\")\n",
    "df_microdados = pd.merge(left = df_microdados, right = df_tipo_escola, on=\"TP_ESCOLA\")\n",
    "df_microdados = pd.merge(left = df_microdados, right = df_status_redacao, on=\"TP_STATUS_REDACAO\")\n",
    "df_microdados = pd.merge(left = df_microdados, right = df_idioma_escolhido, on=\"TP_LINGUA\")\n",
    "df_microdados = pd.merge(left = df_microdados, right = df_presente_natureza, on=\"TP_PRESENCA_CN\")\n",
    "df_microdados = pd.merge(left = df_microdados, right = df_presente_humanas, on=\"TP_PRESENCA_CH\")\n",
    "df_microdados = pd.merge(left = df_microdados, right = df_presente_linguagem, on=\"TP_PRESENCA_LC\")\n",
    "df_microdados = pd.merge(left = df_microdados, right = df_presente_matematica, on=\"TP_PRESENCA_MT\")\n",
    "df_microdados = pd.merge(left = df_microdados, right = df_acesso_internet, on=\"Q025\")\n",
    "df_microdados = pd.merge(left = df_microdados, right = df_renda_familiar, on=\"Q006\")"
   ]
  },
  {
   "cell_type": "code",
   "execution_count": 6,
   "metadata": {},
   "outputs": [],
   "source": [
    "filtro=['SG_UF_RESIDENCIA'\n",
    ",'NU_IDADE'\n",
    ",'NU_NOTA_CN'\n",
    ",'NU_NOTA_CH'\n",
    ",'NU_NOTA_LC'\n",
    ",'NU_NOTA_MT'\n",
    ",'NU_NOTA_REDACAO'\n",
    ",'Tipo Fase'\n",
    ",'Intervalo Idade'\n",
    ",'Sexo'\n",
    ",'Raça Declarada'\n",
    ",'Conclusão Ensino Médio'\n",
    ",'Tipo Escola'\n",
    ",'Status da Redação'\n",
    ",'Idioma Escolhido'\n",
    ",'Presença Natureza'\n",
    ",'Presença Humanas'\n",
    ",'Presença Linguagem'\n",
    ",'Presença Matemática'\n",
    ",'Acesso a Internet'\n",
    ",'Renda Familiar']"
   ]
  },
  {
   "cell_type": "code",
   "execution_count": 7,
   "metadata": {},
   "outputs": [],
   "source": [
    "df_microdados = df_microdados[filtro]"
   ]
  },
  {
   "cell_type": "code",
   "execution_count": 8,
   "metadata": {},
   "outputs": [],
   "source": [
    "df_microdados = df_microdados.rename(columns={'SG_UF_RESIDENCIA': 'UF'\n",
    ",'NU_IDADE':'Idade'\n",
    ",'NU_NOTA_CN':'Nota Ciencias da Natureza'\n",
    ",'NU_NOTA_CH':'Nota Ciencias Humanas'\n",
    ",'NU_NOTA_LC':'Nota Linguagem e Código'\n",
    ",'NU_NOTA_MT':'Nota Matemática'\n",
    ",'NU_NOTA_REDACAO':'Nota Redação'\n",
    ",'Tipo Fase':'Grupo Idade'})"
   ]
  },
  {
   "cell_type": "code",
   "execution_count": null,
   "metadata": {},
   "outputs": [],
   "source": [
    "df_microdados.to_csv('DW.csv', encoding='ISO-8859-1', index=False,sep=\";\")"
   ]
  },
  {
   "cell_type": "markdown",
   "metadata": {},
   "source": [
    "<h1>Estrtura de dados</h1>\n",
    "<p>Ao Final o DW ficara asssim:</p>\n",
    "\n",
    "<img src=\"imagens/DW.PNG\" alt=\"Girl in a jacket\">"
   ]
  },
  {
   "cell_type": "code",
   "execution_count": 9,
   "metadata": {},
   "outputs": [
    {
     "data": {
      "text/html": [
       "<div>\n",
       "<style scoped>\n",
       "    .dataframe tbody tr th:only-of-type {\n",
       "        vertical-align: middle;\n",
       "    }\n",
       "\n",
       "    .dataframe tbody tr th {\n",
       "        vertical-align: top;\n",
       "    }\n",
       "\n",
       "    .dataframe thead th {\n",
       "        text-align: right;\n",
       "    }\n",
       "</style>\n",
       "<table border=\"1\" class=\"dataframe\">\n",
       "  <thead>\n",
       "    <tr style=\"text-align: right;\">\n",
       "      <th></th>\n",
       "      <th>UF</th>\n",
       "      <th>Idade</th>\n",
       "      <th>Nota Ciencias da Natureza</th>\n",
       "      <th>Nota Ciencias Humanas</th>\n",
       "      <th>Nota Linguagem e Código</th>\n",
       "      <th>Nota Matemática</th>\n",
       "      <th>Nota Redação</th>\n",
       "      <th>Grupo Idade</th>\n",
       "      <th>Intervalo Idade</th>\n",
       "      <th>Sexo</th>\n",
       "      <th>Raça Declarada</th>\n",
       "      <th>Conclusão Ensino Médio</th>\n",
       "      <th>Tipo Escola</th>\n",
       "      <th>Status da Redação</th>\n",
       "      <th>Idioma Escolhido</th>\n",
       "      <th>Presença Natureza</th>\n",
       "      <th>Presença Humanas</th>\n",
       "      <th>Presença Linguagem</th>\n",
       "      <th>Presença Matemática</th>\n",
       "      <th>Acesso a Internet</th>\n",
       "      <th>Renda Familiar</th>\n",
       "    </tr>\n",
       "  </thead>\n",
       "  <tbody>\n",
       "    <tr>\n",
       "      <th>0</th>\n",
       "      <td>PA</td>\n",
       "      <td>21</td>\n",
       "      <td>472.9</td>\n",
       "      <td>466.0</td>\n",
       "      <td>497.3</td>\n",
       "      <td>369.1</td>\n",
       "      <td>780.0</td>\n",
       "      <td>Adulto</td>\n",
       "      <td>Dos 18 aos 24 anos</td>\n",
       "      <td>Masculino</td>\n",
       "      <td>Parda</td>\n",
       "      <td>2016</td>\n",
       "      <td>Não Respondeu</td>\n",
       "      <td>Sem problemas</td>\n",
       "      <td>Inglês</td>\n",
       "      <td>Presente na prova</td>\n",
       "      <td>Presente na prova</td>\n",
       "      <td>Presente na prova</td>\n",
       "      <td>Presente na prova</td>\n",
       "      <td>Não.</td>\n",
       "      <td>Até R$ 998,00.</td>\n",
       "    </tr>\n",
       "    <tr>\n",
       "      <th>1</th>\n",
       "      <td>PA</td>\n",
       "      <td>21</td>\n",
       "      <td>530.5</td>\n",
       "      <td>560.1</td>\n",
       "      <td>547.8</td>\n",
       "      <td>369.2</td>\n",
       "      <td>720.0</td>\n",
       "      <td>Adulto</td>\n",
       "      <td>Dos 18 aos 24 anos</td>\n",
       "      <td>Masculino</td>\n",
       "      <td>Parda</td>\n",
       "      <td>2016</td>\n",
       "      <td>Não Respondeu</td>\n",
       "      <td>Sem problemas</td>\n",
       "      <td>Inglês</td>\n",
       "      <td>Presente na prova</td>\n",
       "      <td>Presente na prova</td>\n",
       "      <td>Presente na prova</td>\n",
       "      <td>Presente na prova</td>\n",
       "      <td>Não.</td>\n",
       "      <td>Até R$ 998,00.</td>\n",
       "    </tr>\n",
       "    <tr>\n",
       "      <th>2</th>\n",
       "      <td>PA</td>\n",
       "      <td>21</td>\n",
       "      <td>505.9</td>\n",
       "      <td>612.1</td>\n",
       "      <td>542.7</td>\n",
       "      <td>650.6</td>\n",
       "      <td>920.0</td>\n",
       "      <td>Adulto</td>\n",
       "      <td>Dos 18 aos 24 anos</td>\n",
       "      <td>Masculino</td>\n",
       "      <td>Parda</td>\n",
       "      <td>2016</td>\n",
       "      <td>Não Respondeu</td>\n",
       "      <td>Sem problemas</td>\n",
       "      <td>Inglês</td>\n",
       "      <td>Presente na prova</td>\n",
       "      <td>Presente na prova</td>\n",
       "      <td>Presente na prova</td>\n",
       "      <td>Presente na prova</td>\n",
       "      <td>Não.</td>\n",
       "      <td>Até R$ 998,00.</td>\n",
       "    </tr>\n",
       "    <tr>\n",
       "      <th>3</th>\n",
       "      <td>PA</td>\n",
       "      <td>21</td>\n",
       "      <td>352.9</td>\n",
       "      <td>492.0</td>\n",
       "      <td>489.7</td>\n",
       "      <td>414.9</td>\n",
       "      <td>580.0</td>\n",
       "      <td>Adulto</td>\n",
       "      <td>Dos 18 aos 24 anos</td>\n",
       "      <td>Masculino</td>\n",
       "      <td>Parda</td>\n",
       "      <td>2016</td>\n",
       "      <td>Não Respondeu</td>\n",
       "      <td>Sem problemas</td>\n",
       "      <td>Inglês</td>\n",
       "      <td>Presente na prova</td>\n",
       "      <td>Presente na prova</td>\n",
       "      <td>Presente na prova</td>\n",
       "      <td>Presente na prova</td>\n",
       "      <td>Não.</td>\n",
       "      <td>Até R$ 998,00.</td>\n",
       "    </tr>\n",
       "    <tr>\n",
       "      <th>4</th>\n",
       "      <td>PA</td>\n",
       "      <td>21</td>\n",
       "      <td>544.7</td>\n",
       "      <td>547.1</td>\n",
       "      <td>558.7</td>\n",
       "      <td>640.2</td>\n",
       "      <td>580.0</td>\n",
       "      <td>Adulto</td>\n",
       "      <td>Dos 18 aos 24 anos</td>\n",
       "      <td>Masculino</td>\n",
       "      <td>Parda</td>\n",
       "      <td>2016</td>\n",
       "      <td>Não Respondeu</td>\n",
       "      <td>Sem problemas</td>\n",
       "      <td>Inglês</td>\n",
       "      <td>Presente na prova</td>\n",
       "      <td>Presente na prova</td>\n",
       "      <td>Presente na prova</td>\n",
       "      <td>Presente na prova</td>\n",
       "      <td>Não.</td>\n",
       "      <td>Até R$ 998,00.</td>\n",
       "    </tr>\n",
       "  </tbody>\n",
       "</table>\n",
       "</div>"
      ],
      "text/plain": [
       "   UF  Idade  Nota Ciencias da Natureza  Nota Ciencias Humanas  \\\n",
       "0  PA     21                      472.9                  466.0   \n",
       "1  PA     21                      530.5                  560.1   \n",
       "2  PA     21                      505.9                  612.1   \n",
       "3  PA     21                      352.9                  492.0   \n",
       "4  PA     21                      544.7                  547.1   \n",
       "\n",
       "   Nota Linguagem e Código  Nota Matemática  Nota Redação Grupo Idade  \\\n",
       "0                    497.3            369.1         780.0      Adulto   \n",
       "1                    547.8            369.2         720.0      Adulto   \n",
       "2                    542.7            650.6         920.0      Adulto   \n",
       "3                    489.7            414.9         580.0      Adulto   \n",
       "4                    558.7            640.2         580.0      Adulto   \n",
       "\n",
       "      Intervalo Idade       Sexo Raça Declarada Conclusão Ensino Médio  \\\n",
       "0  Dos 18 aos 24 anos  Masculino          Parda                   2016   \n",
       "1  Dos 18 aos 24 anos  Masculino          Parda                   2016   \n",
       "2  Dos 18 aos 24 anos  Masculino          Parda                   2016   \n",
       "3  Dos 18 aos 24 anos  Masculino          Parda                   2016   \n",
       "4  Dos 18 aos 24 anos  Masculino          Parda                   2016   \n",
       "\n",
       "     Tipo Escola Status da Redação Idioma Escolhido  Presença Natureza  \\\n",
       "0  Não Respondeu     Sem problemas           Inglês  Presente na prova   \n",
       "1  Não Respondeu     Sem problemas           Inglês  Presente na prova   \n",
       "2  Não Respondeu     Sem problemas           Inglês  Presente na prova   \n",
       "3  Não Respondeu     Sem problemas           Inglês  Presente na prova   \n",
       "4  Não Respondeu     Sem problemas           Inglês  Presente na prova   \n",
       "\n",
       "    Presença Humanas Presença Linguagem Presença Matemática Acesso a Internet  \\\n",
       "0  Presente na prova  Presente na prova   Presente na prova              Não.   \n",
       "1  Presente na prova  Presente na prova   Presente na prova              Não.   \n",
       "2  Presente na prova  Presente na prova   Presente na prova              Não.   \n",
       "3  Presente na prova  Presente na prova   Presente na prova              Não.   \n",
       "4  Presente na prova  Presente na prova   Presente na prova              Não.   \n",
       "\n",
       "   Renda Familiar  \n",
       "0  Até R$ 998,00.  \n",
       "1  Até R$ 998,00.  \n",
       "2  Até R$ 998,00.  \n",
       "3  Até R$ 998,00.  \n",
       "4  Até R$ 998,00.  "
      ]
     },
     "execution_count": 9,
     "metadata": {},
     "output_type": "execute_result"
    }
   ],
   "source": [
    "df_microdados.head()"
   ]
  },
  {
   "cell_type": "code",
   "execution_count": 16,
   "metadata": {},
   "outputs": [
    {
     "data": {
      "text/plain": [
       "[<matplotlib.lines.Line2D at 0x1be828dfd60>]"
      ]
     },
     "execution_count": 16,
     "metadata": {},
     "output_type": "execute_result"
    },
    {
     "data": {
      "image/png": "[encoded data removed]",
      "text/plain": [
       "<Figure size 432x288 with 1 Axes>"
      ]
     },
     "metadata": {
      "needs_background": "light"
     },
     "output_type": "display_data"
    }
   ],
   "source": [
    "plt.plot(df_microdados.groupby(df_microdados['Status da Redação'])['Status da Redação'].count())"
   ]
  },
  {
   "cell_type": "code",
   "execution_count": 19,
   "metadata": {},
   "outputs": [
    {
     "ename": "ValueError",
     "evalue": "Input data must be a pandas object to reorder",
     "output_type": "error",
     "traceback": [
      "\u001b[1;31m---------------------------------------------------------------------------\u001b[0m",
      "\u001b[1;31mValueError\u001b[0m                                Traceback (most recent call last)",
      "\u001b[1;32m<ipython-input-19-6db3cdce615b>\u001b[0m in \u001b[0;36m<module>\u001b[1;34m\u001b[0m\n\u001b[1;32m----> 1\u001b[1;33m \u001b[0msns\u001b[0m\u001b[1;33m.\u001b[0m\u001b[0mcatplot\u001b[0m\u001b[1;33m(\u001b[0m\u001b[0mdata\u001b[0m\u001b[1;33m=\u001b[0m\u001b[0mdf_microdados\u001b[0m\u001b[1;33m.\u001b[0m\u001b[0mgroupby\u001b[0m\u001b[1;33m(\u001b[0m\u001b[0mdf_microdados\u001b[0m\u001b[1;33m[\u001b[0m\u001b[1;34m'Status da Redação'\u001b[0m\u001b[1;33m]\u001b[0m\u001b[1;33m)\u001b[0m\u001b[1;33m[\u001b[0m\u001b[1;34m'Status da Redação'\u001b[0m\u001b[1;33m]\u001b[0m\u001b[1;33m.\u001b[0m\u001b[0mcount\u001b[0m\u001b[1;33m(\u001b[0m\u001b[1;33m)\u001b[0m\u001b[1;33m)\u001b[0m\u001b[1;33m\u001b[0m\u001b[1;33m\u001b[0m\u001b[0m\n\u001b[0m",
      "\u001b[1;32m~\\anaconda3_v2\\lib\\site-packages\\seaborn\\_decorators.py\u001b[0m in \u001b[0;36minner_f\u001b[1;34m(*args, **kwargs)\u001b[0m\n\u001b[0;32m     44\u001b[0m             )\n\u001b[0;32m     45\u001b[0m         \u001b[0mkwargs\u001b[0m\u001b[1;33m.\u001b[0m\u001b[0mupdate\u001b[0m\u001b[1;33m(\u001b[0m\u001b[1;33m{\u001b[0m\u001b[0mk\u001b[0m\u001b[1;33m:\u001b[0m \u001b[0marg\u001b[0m \u001b[1;32mfor\u001b[0m \u001b[0mk\u001b[0m\u001b[1;33m,\u001b[0m \u001b[0marg\u001b[0m \u001b[1;32min\u001b[0m \u001b[0mzip\u001b[0m\u001b[1;33m(\u001b[0m\u001b[0msig\u001b[0m\u001b[1;33m.\u001b[0m\u001b[0mparameters\u001b[0m\u001b[1;33m,\u001b[0m \u001b[0margs\u001b[0m\u001b[1;33m)\u001b[0m\u001b[1;33m}\u001b[0m\u001b[1;33m)\u001b[0m\u001b[1;33m\u001b[0m\u001b[1;33m\u001b[0m\u001b[0m\n\u001b[1;32m---> 46\u001b[1;33m         \u001b[1;32mreturn\u001b[0m \u001b[0mf\u001b[0m\u001b[1;33m(\u001b[0m\u001b[1;33m**\u001b[0m\u001b[0mkwargs\u001b[0m\u001b[1;33m)\u001b[0m\u001b[1;33m\u001b[0m\u001b[1;33m\u001b[0m\u001b[0m\n\u001b[0m\u001b[0;32m     47\u001b[0m     \u001b[1;32mreturn\u001b[0m \u001b[0minner_f\u001b[0m\u001b[1;33m\u001b[0m\u001b[1;33m\u001b[0m\u001b[0m\n\u001b[0;32m     48\u001b[0m \u001b[1;33m\u001b[0m\u001b[0m\n",
      "\u001b[1;32m~\\anaconda3_v2\\lib\\site-packages\\seaborn\\categorical.py\u001b[0m in \u001b[0;36mcatplot\u001b[1;34m(x, y, hue, data, row, col, col_wrap, estimator, ci, n_boot, units, seed, order, hue_order, row_order, col_order, kind, height, aspect, orient, color, palette, legend, legend_out, sharex, sharey, margin_titles, facet_kws, **kwargs)\u001b[0m\n\u001b[0;32m   3832\u001b[0m \u001b[1;33m\u001b[0m\u001b[0m\n\u001b[0;32m   3833\u001b[0m     \u001b[1;31m# Draw the plot onto the facets\u001b[0m\u001b[1;33m\u001b[0m\u001b[1;33m\u001b[0m\u001b[1;33m\u001b[0m\u001b[0m\n\u001b[1;32m-> 3834\u001b[1;33m     \u001b[0mg\u001b[0m\u001b[1;33m.\u001b[0m\u001b[0mmap_dataframe\u001b[0m\u001b[1;33m(\u001b[0m\u001b[0mplot_func\u001b[0m\u001b[1;33m,\u001b[0m \u001b[0mx\u001b[0m\u001b[1;33m=\u001b[0m\u001b[0mx\u001b[0m\u001b[1;33m,\u001b[0m \u001b[0my\u001b[0m\u001b[1;33m=\u001b[0m\u001b[0my\u001b[0m\u001b[1;33m,\u001b[0m \u001b[0mhue\u001b[0m\u001b[1;33m=\u001b[0m\u001b[0mhue\u001b[0m\u001b[1;33m,\u001b[0m \u001b[1;33m**\u001b[0m\u001b[0mplot_kws\u001b[0m\u001b[1;33m)\u001b[0m\u001b[1;33m\u001b[0m\u001b[1;33m\u001b[0m\u001b[0m\n\u001b[0m\u001b[0;32m   3835\u001b[0m \u001b[1;33m\u001b[0m\u001b[0m\n\u001b[0;32m   3836\u001b[0m     \u001b[1;32mif\u001b[0m \u001b[0mp\u001b[0m\u001b[1;33m.\u001b[0m\u001b[0morient\u001b[0m \u001b[1;33m==\u001b[0m \u001b[1;34m\"h\"\u001b[0m\u001b[1;33m:\u001b[0m\u001b[1;33m\u001b[0m\u001b[1;33m\u001b[0m\u001b[0m\n",
      "\u001b[1;32m~\\anaconda3_v2\\lib\\site-packages\\seaborn\\axisgrid.py\u001b[0m in \u001b[0;36mmap_dataframe\u001b[1;34m(self, func, *args, **kwargs)\u001b[0m\n\u001b[0;32m    748\u001b[0m \u001b[1;33m\u001b[0m\u001b[0m\n\u001b[0;32m    749\u001b[0m             \u001b[1;31m# Draw the plot\u001b[0m\u001b[1;33m\u001b[0m\u001b[1;33m\u001b[0m\u001b[1;33m\u001b[0m\u001b[0m\n\u001b[1;32m--> 750\u001b[1;33m             \u001b[0mself\u001b[0m\u001b[1;33m.\u001b[0m\u001b[0m_facet_plot\u001b[0m\u001b[1;33m(\u001b[0m\u001b[0mfunc\u001b[0m\u001b[1;33m,\u001b[0m \u001b[0max\u001b[0m\u001b[1;33m,\u001b[0m \u001b[0margs\u001b[0m\u001b[1;33m,\u001b[0m \u001b[0mkwargs\u001b[0m\u001b[1;33m)\u001b[0m\u001b[1;33m\u001b[0m\u001b[1;33m\u001b[0m\u001b[0m\n\u001b[0m\u001b[0;32m    751\u001b[0m \u001b[1;33m\u001b[0m\u001b[0m\n\u001b[0;32m    752\u001b[0m         \u001b[1;31m# Finalize the annotations and layout\u001b[0m\u001b[1;33m\u001b[0m\u001b[1;33m\u001b[0m\u001b[1;33m\u001b[0m\u001b[0m\n",
      "\u001b[1;32m~\\anaconda3_v2\\lib\\site-packages\\seaborn\\axisgrid.py\u001b[0m in \u001b[0;36m_facet_plot\u001b[1;34m(self, func, ax, plot_args, plot_kwargs)\u001b[0m\n\u001b[0;32m    772\u001b[0m                 \u001b[0mplot_kwargs\u001b[0m\u001b[1;33m[\u001b[0m\u001b[0mkey\u001b[0m\u001b[1;33m]\u001b[0m \u001b[1;33m=\u001b[0m \u001b[0mval\u001b[0m\u001b[1;33m\u001b[0m\u001b[1;33m\u001b[0m\u001b[0m\n\u001b[0;32m    773\u001b[0m             \u001b[0mplot_args\u001b[0m \u001b[1;33m=\u001b[0m \u001b[1;33m[\u001b[0m\u001b[1;33m]\u001b[0m\u001b[1;33m\u001b[0m\u001b[1;33m\u001b[0m\u001b[0m\n\u001b[1;32m--> 774\u001b[1;33m         \u001b[0mfunc\u001b[0m\u001b[1;33m(\u001b[0m\u001b[1;33m*\u001b[0m\u001b[0mplot_args\u001b[0m\u001b[1;33m,\u001b[0m \u001b[1;33m**\u001b[0m\u001b[0mplot_kwargs\u001b[0m\u001b[1;33m)\u001b[0m\u001b[1;33m\u001b[0m\u001b[1;33m\u001b[0m\u001b[0m\n\u001b[0m\u001b[0;32m    775\u001b[0m \u001b[1;33m\u001b[0m\u001b[0m\n\u001b[0;32m    776\u001b[0m         \u001b[1;31m# Sort out the supporting information\u001b[0m\u001b[1;33m\u001b[0m\u001b[1;33m\u001b[0m\u001b[1;33m\u001b[0m\u001b[0m\n",
      "\u001b[1;32m~\\anaconda3_v2\\lib\\site-packages\\seaborn\\_decorators.py\u001b[0m in \u001b[0;36minner_f\u001b[1;34m(*args, **kwargs)\u001b[0m\n\u001b[0;32m     44\u001b[0m             )\n\u001b[0;32m     45\u001b[0m         \u001b[0mkwargs\u001b[0m\u001b[1;33m.\u001b[0m\u001b[0mupdate\u001b[0m\u001b[1;33m(\u001b[0m\u001b[1;33m{\u001b[0m\u001b[0mk\u001b[0m\u001b[1;33m:\u001b[0m \u001b[0marg\u001b[0m \u001b[1;32mfor\u001b[0m \u001b[0mk\u001b[0m\u001b[1;33m,\u001b[0m \u001b[0marg\u001b[0m \u001b[1;32min\u001b[0m \u001b[0mzip\u001b[0m\u001b[1;33m(\u001b[0m\u001b[0msig\u001b[0m\u001b[1;33m.\u001b[0m\u001b[0mparameters\u001b[0m\u001b[1;33m,\u001b[0m \u001b[0margs\u001b[0m\u001b[1;33m)\u001b[0m\u001b[1;33m}\u001b[0m\u001b[1;33m)\u001b[0m\u001b[1;33m\u001b[0m\u001b[1;33m\u001b[0m\u001b[0m\n\u001b[1;32m---> 46\u001b[1;33m         \u001b[1;32mreturn\u001b[0m \u001b[0mf\u001b[0m\u001b[1;33m(\u001b[0m\u001b[1;33m**\u001b[0m\u001b[0mkwargs\u001b[0m\u001b[1;33m)\u001b[0m\u001b[1;33m\u001b[0m\u001b[1;33m\u001b[0m\u001b[0m\n\u001b[0m\u001b[0;32m     47\u001b[0m     \u001b[1;32mreturn\u001b[0m \u001b[0minner_f\u001b[0m\u001b[1;33m\u001b[0m\u001b[1;33m\u001b[0m\u001b[0m\n\u001b[0;32m     48\u001b[0m \u001b[1;33m\u001b[0m\u001b[0m\n",
      "\u001b[1;32m~\\anaconda3_v2\\lib\\site-packages\\seaborn\\categorical.py\u001b[0m in \u001b[0;36mstripplot\u001b[1;34m(x, y, hue, data, order, hue_order, jitter, dodge, orient, color, palette, size, edgecolor, linewidth, ax, **kwargs)\u001b[0m\n\u001b[0;32m   2792\u001b[0m         \u001b[0mwarnings\u001b[0m\u001b[1;33m.\u001b[0m\u001b[0mwarn\u001b[0m\u001b[1;33m(\u001b[0m\u001b[0mmsg\u001b[0m\u001b[1;33m,\u001b[0m \u001b[0mUserWarning\u001b[0m\u001b[1;33m)\u001b[0m\u001b[1;33m\u001b[0m\u001b[1;33m\u001b[0m\u001b[0m\n\u001b[0;32m   2793\u001b[0m \u001b[1;33m\u001b[0m\u001b[0m\n\u001b[1;32m-> 2794\u001b[1;33m     plotter = _StripPlotter(x, y, hue, data, order, hue_order,\n\u001b[0m\u001b[0;32m   2795\u001b[0m                             jitter, dodge, orient, color, palette)\n\u001b[0;32m   2796\u001b[0m     \u001b[1;32mif\u001b[0m \u001b[0max\u001b[0m \u001b[1;32mis\u001b[0m \u001b[1;32mNone\u001b[0m\u001b[1;33m:\u001b[0m\u001b[1;33m\u001b[0m\u001b[1;33m\u001b[0m\u001b[0m\n",
      "\u001b[1;32m~\\anaconda3_v2\\lib\\site-packages\\seaborn\\categorical.py\u001b[0m in \u001b[0;36m__init__\u001b[1;34m(self, x, y, hue, data, order, hue_order, jitter, dodge, orient, color, palette)\u001b[0m\n\u001b[0;32m   1097\u001b[0m                  jitter, dodge, orient, color, palette):\n\u001b[0;32m   1098\u001b[0m         \u001b[1;34m\"\"\"Initialize the plotter.\"\"\"\u001b[0m\u001b[1;33m\u001b[0m\u001b[1;33m\u001b[0m\u001b[0m\n\u001b[1;32m-> 1099\u001b[1;33m         \u001b[0mself\u001b[0m\u001b[1;33m.\u001b[0m\u001b[0mestablish_variables\u001b[0m\u001b[1;33m(\u001b[0m\u001b[0mx\u001b[0m\u001b[1;33m,\u001b[0m \u001b[0my\u001b[0m\u001b[1;33m,\u001b[0m \u001b[0mhue\u001b[0m\u001b[1;33m,\u001b[0m \u001b[0mdata\u001b[0m\u001b[1;33m,\u001b[0m \u001b[0morient\u001b[0m\u001b[1;33m,\u001b[0m \u001b[0morder\u001b[0m\u001b[1;33m,\u001b[0m \u001b[0mhue_order\u001b[0m\u001b[1;33m)\u001b[0m\u001b[1;33m\u001b[0m\u001b[1;33m\u001b[0m\u001b[0m\n\u001b[0m\u001b[0;32m   1100\u001b[0m         \u001b[0mself\u001b[0m\u001b[1;33m.\u001b[0m\u001b[0mestablish_colors\u001b[0m\u001b[1;33m(\u001b[0m\u001b[0mcolor\u001b[0m\u001b[1;33m,\u001b[0m \u001b[0mpalette\u001b[0m\u001b[1;33m,\u001b[0m \u001b[1;36m1\u001b[0m\u001b[1;33m)\u001b[0m\u001b[1;33m\u001b[0m\u001b[1;33m\u001b[0m\u001b[0m\n\u001b[0;32m   1101\u001b[0m \u001b[1;33m\u001b[0m\u001b[0m\n",
      "\u001b[1;32m~\\anaconda3_v2\\lib\\site-packages\\seaborn\\categorical.py\u001b[0m in \u001b[0;36mestablish_variables\u001b[1;34m(self, x, y, hue, data, orient, order, hue_order, units)\u001b[0m\n\u001b[0;32m     91\u001b[0m                 \u001b[1;32mif\u001b[0m \u001b[0morder\u001b[0m \u001b[1;32mis\u001b[0m \u001b[1;32mnot\u001b[0m \u001b[1;32mNone\u001b[0m\u001b[1;33m:\u001b[0m\u001b[1;33m\u001b[0m\u001b[1;33m\u001b[0m\u001b[0m\n\u001b[0;32m     92\u001b[0m                     \u001b[0merror\u001b[0m \u001b[1;33m=\u001b[0m \u001b[1;34m\"Input data must be a pandas object to reorder\"\u001b[0m\u001b[1;33m\u001b[0m\u001b[1;33m\u001b[0m\u001b[0m\n\u001b[1;32m---> 93\u001b[1;33m                     \u001b[1;32mraise\u001b[0m \u001b[0mValueError\u001b[0m\u001b[1;33m(\u001b[0m\u001b[0merror\u001b[0m\u001b[1;33m)\u001b[0m\u001b[1;33m\u001b[0m\u001b[1;33m\u001b[0m\u001b[0m\n\u001b[0m\u001b[0;32m     94\u001b[0m \u001b[1;33m\u001b[0m\u001b[0m\n\u001b[0;32m     95\u001b[0m                 \u001b[1;31m# The input data is an array\u001b[0m\u001b[1;33m\u001b[0m\u001b[1;33m\u001b[0m\u001b[1;33m\u001b[0m\u001b[0m\n",
      "\u001b[1;31mValueError\u001b[0m: Input data must be a pandas object to reorder"
     ]
    },
    {
     "data": {
      "image/png": "[encoded data removed]",
      "text/plain": [
       "<Figure size 360x360 with 1 Axes>"
      ]
     },
     "metadata": {
      "needs_background": "light"
     },
     "output_type": "display_data"
    }
   ],
   "source": [
    "sns.catplot(data=df_microdados.groupby(df_microdados['Status da Redação'])['Status da Redação'].count())"
   ]
  }
 ],
 "metadata": {
  "kernelspec": {
   "display_name": "Python 3",
   "language": "python",
   "name": "python3"
  },
  "language_info": {
   "codemirror_mode": {
    "name": "ipython",
    "version": 3
   },
   "file_extension": ".py",
   "mimetype": "text/x-python",
   "name": "python",
   "nbconvert_exporter": "python",
   "pygments_lexer": "ipython3",
   "version": "3.8.5"
  }
 },
 "nbformat": 4,
 "nbformat_minor": 4
}
